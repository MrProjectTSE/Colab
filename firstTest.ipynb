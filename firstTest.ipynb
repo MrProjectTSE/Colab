{
  "nbformat": 4,
  "nbformat_minor": 0,
  "metadata": {
    "colab": {
      "provenance": [],
      "authorship_tag": "ABX9TyN7lOwVyatIDjVhNCGDT/lQ",
      "include_colab_link": true
    },
    "kernelspec": {
      "name": "python3",
      "display_name": "Python 3"
    },
    "language_info": {
      "name": "python"
    }
  },
  "cells": [
    {
      "cell_type": "markdown",
      "metadata": {
        "id": "view-in-github",
        "colab_type": "text"
      },
      "source": [
        "<a href=\"https://colab.research.google.com/github/MrProjectTSE/Colab/blob/main/firstTest.ipynb\" target=\"_parent\"><img src=\"https://colab.research.google.com/assets/colab-badge.svg\" alt=\"Open In Colab\"/></a>"
      ]
    },
    {
      "cell_type": "code",
      "execution_count": null,
      "metadata": {
        "id": "HscDMxtQS8qB"
      },
      "outputs": [],
      "source": [
        "import matplotlib.pyplot as plt\n",
        "import numpy as np\n",
        "plt.style.use('_mpl-gallery')\n",
        "# make data:\n",
        "np.random.seed(10)\n",
        "D = np.random.normal((3, 5, 4), (1.25, 1.00, 1.25), (100, 3))\n",
        "\n",
        "# plot\n",
        "fig, ax = plt.subplots()\n",
        "VP = ax.boxplot(D, positions=[2, 4, 6], widths=1.5, patch_artist=True,\n",
        "                showmeans=False, showfliers=False,\n",
        "                medianprops={\"color\": \"white\", \"linewidth\": 0.5},\n",
        "                boxprops={\"facecolor\": \"C0\", \"edgecolor\": \"white\",\n",
        "                          \"linewidth\": 0.5},\n",
        "                whiskerprops={\"color\": \"C0\", \"linewidth\": 1.5},\n",
        "                capprops={\"color\": \"C0\", \"linewidth\": 1.5})\n",
        "\n",
        "ax.set(xlim=(0, 8), xticks=np.arange(1, 8),\n",
        "       ylim=(0, 8), yticks=np.arange(1, 8))\n",
        "\n",
        "plt.show()"
      ]
    }
  ]
}